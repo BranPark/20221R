{
  "nbformat": 4,
  "nbformat_minor": 0,
  "metadata": {
    "colab": {
      "name": "20220316",
      "provenance": [],
      "authorship_tag": "ABX9TyPIQRte3fLmxp9h0ZFB9wvg",
      "include_colab_link": true
    },
    "kernelspec": {
      "name": "python3",
      "display_name": "Python 3"
    },
    "language_info": {
      "name": "python"
    }
  },
  "cells": [
    {
      "cell_type": "markdown",
      "metadata": {
        "id": "view-in-github",
        "colab_type": "text"
      },
      "source": [
        "<a href=\"https://colab.research.google.com/github/BranPark/20221R/blob/main/20220316.ipynb\" target=\"_parent\"><img src=\"https://colab.research.google.com/assets/colab-badge.svg\" alt=\"Open In Colab\"/></a>"
      ]
    },
    {
      "cell_type": "markdown",
      "source": [
        "Assignment 20220316\n",
        "\n",
        "\n",
        "2013130926 박민수\n",
        "\n",
        "\n",
        "**1. Types of Variables**"
      ],
      "metadata": {
        "id": "UeH042cRJF-Q"
      }
    },
    {
      "cell_type": "code",
      "execution_count": null,
      "metadata": {
        "colab": {
          "base_uri": "https://localhost:8080/"
        },
        "id": "2paTrAUrIwKS",
        "outputId": "927cb4a1-e10d-4961-cc32-02acd6dab852"
      },
      "outputs": [
        {
          "output_type": "stream",
          "name": "stdout",
          "text": [
            "<class 'int'>\n",
            "<class 'float'>\n",
            "<class 'str'>\n",
            "<class 'list'>\n",
            "<class 'tuple'>\n",
            "<class 'dict'>\n"
          ]
        }
      ],
      "source": [
        "a=1; print(type(a))  #int=integer\n",
        "b=0.5; print(type(b))  #float=real number other than int\n",
        "c='red'; print(type(c))  #str=text expressed in ' ' \n",
        "d=[1, 2, 3, 4]; print(type(d))  #list=set of elements\n",
        "e=(1, 2, 3, 4); print(type(e))  #tuple=a list whose elements cannnot be altered\n",
        "f={a:1, b:2, c:3}; print(type(f))  #dict=set of keys and following values"
      ]
    },
    {
      "cell_type": "markdown",
      "source": [
        "**2. Indexing**"
      ],
      "metadata": {
        "id": "EL17YX_CKH-k"
      }
    },
    {
      "cell_type": "code",
      "source": [
        "a=[1, 2, 3, 4, 5]\n",
        "print(a[0]); print(a[1]); print(a[4]); #the index of elements starts from 0\n",
        "print(a[1:3]);  #can set the range, refer to the preceding elements \n",
        "print(a[:]);    #if no number is designated, all range would be set\n",
        "print(a[:-2]);  #indexing in negative numbers refers to the elements from the back which starts from -1\n",
        "len(a)     #length, shows the number of elements in a list, a str, etc.\n"
      ],
      "metadata": {
        "colab": {
          "base_uri": "https://localhost:8080/"
        },
        "id": "hEYmv8PuKKqe",
        "outputId": "76a42235-49d1-4ffa-e844-9af805834c5a"
      },
      "execution_count": null,
      "outputs": [
        {
          "output_type": "stream",
          "name": "stdout",
          "text": [
            "1\n",
            "2\n",
            "5\n",
            "[2, 3]\n",
            "[1, 2, 3, 4, 5]\n",
            "[1, 2, 3]\n"
          ]
        },
        {
          "output_type": "execute_result",
          "data": {
            "text/plain": [
              "5"
            ]
          },
          "metadata": {},
          "execution_count": 2
        }
      ]
    },
    {
      "cell_type": "code",
      "source": [
        "s='abcDEF';\n",
        "print(s[1]);  #indexing of str, each alphabet is an element\n",
        "print(s[1]+s[3]+s[5]*2);  #adding up elements, repetition\n",
        "print(s.upper());  #variable.upper()  \n",
        "print(s.lower());  #variable.lower()"
      ],
      "metadata": {
        "colab": {
          "base_uri": "https://localhost:8080/"
        },
        "id": "rkTx0izMLKwu",
        "outputId": "5a529d4e-95e9-4292-f57e-40c223f92ee4"
      },
      "execution_count": null,
      "outputs": [
        {
          "output_type": "stream",
          "name": "stdout",
          "text": [
            "b\n",
            "bDFF\n",
            "ABCDEF\n",
            "abcdef\n"
          ]
        }
      ]
    },
    {
      "cell_type": "code",
      "source": [
        "t=[1, 2, [[3, 4], 'red']];\n",
        "print(t[2]);  #a list can be an element of a list\n",
        "print(t[2][0]); print(type(t[2][0]));  #the property of variable remains\n",
        "print(t[2][1]); print(type(t[2][1]))\n"
      ],
      "metadata": {
        "colab": {
          "base_uri": "https://localhost:8080/"
        },
        "id": "KyackNFyMh4q",
        "outputId": "3e637246-1f6e-49bf-81a6-dcb1d4156197"
      },
      "execution_count": null,
      "outputs": [
        {
          "output_type": "stream",
          "name": "stdout",
          "text": [
            "[[3, 4], 'red']\n",
            "[3, 4]\n",
            "<class 'list'>\n",
            "red\n",
            "<class 'str'>\n"
          ]
        }
      ]
    },
    {
      "cell_type": "markdown",
      "source": [
        "**3. Functions and Syntax**\n"
      ],
      "metadata": {
        "id": "2YfV8sqONOxi"
      }
    },
    {
      "cell_type": "code",
      "source": [
        "def add(a,b):   #can define functions as such (def name_of_function(inputs) + return 'manner of calculation')\n",
        "  return a+b;\n",
        "add(1,2)"
      ],
      "metadata": {
        "colab": {
          "base_uri": "https://localhost:8080/"
        },
        "id": "oqIX5dLQNRon",
        "outputId": "c54d2aec-5b1c-4c6d-e18d-56fcc567ac64"
      },
      "execution_count": null,
      "outputs": [
        {
          "output_type": "execute_result",
          "data": {
            "text/plain": [
              "3"
            ]
          },
          "metadata": {},
          "execution_count": 6
        }
      ]
    },
    {
      "cell_type": "code",
      "source": [
        "a=[1,2,3,4];  #creating a for-loop\n",
        "for i in range(len(a)):  #range(a) creates a list [0, 1, ..., a-1]\n",
        "  print(a[i]);"
      ],
      "metadata": {
        "colab": {
          "base_uri": "https://localhost:8080/"
        },
        "id": "QvIWrimyNvcO",
        "outputId": "a9716d91-b9ca-4d4e-e856-df6ba05beec1"
      },
      "execution_count": null,
      "outputs": [
        {
          "output_type": "stream",
          "name": "stdout",
          "text": [
            "1\n",
            "2\n",
            "3\n",
            "4\n"
          ]
        }
      ]
    },
    {
      "cell_type": "code",
      "source": [
        "a=1\n",
        "if a == 0:  \n",
        "  print(a)  #no execution when FALSE\n",
        "else:  #can also be expressed as 'if a != 0' Note that != is the opposite of ==\n",
        "  print(a+1)"
      ],
      "metadata": {
        "colab": {
          "base_uri": "https://localhost:8080/"
        },
        "id": "LF3Z4DGjN4Jx",
        "outputId": "b3da86d8-4b17-45c0-a3cf-35eabdfcc397"
      },
      "execution_count": null,
      "outputs": [
        {
          "output_type": "stream",
          "name": "stdout",
          "text": [
            "2\n"
          ]
        }
      ]
    },
    {
      "cell_type": "code",
      "source": [
        "for i in range(1,3): #then i consists of 1, 2\n",
        "  for j in range(2, 5):  #j consists of 2, 3, 4\n",
        "    print(i*j)  #for each i, for-loop for j continues"
      ],
      "metadata": {
        "colab": {
          "base_uri": "https://localhost:8080/"
        },
        "id": "YkNu0BZcOsFJ",
        "outputId": "d7457603-715c-4979-92a9-7d0a3c40d37a"
      },
      "execution_count": null,
      "outputs": [
        {
          "output_type": "stream",
          "name": "stdout",
          "text": [
            "2\n",
            "3\n",
            "4\n",
            "4\n",
            "6\n",
            "8\n"
          ]
        }
      ]
    },
    {
      "cell_type": "code",
      "source": [
        "a=['apple', 'tomato', 'pineapple', 'strawberry']\n",
        "b=[i for i in a if len(i)<=6]  #elements can be set by the combination of 'for' and 'if'\n",
        "c=[i for i in a if len(i)<=9 and len(i)>=6]\n",
        "print(b); print(c)"
      ],
      "metadata": {
        "colab": {
          "base_uri": "https://localhost:8080/"
        },
        "id": "_pwg0N0VPMB9",
        "outputId": "0c3b8723-b9e4-4bf3-f6c4-4d6b3bd1c614"
      },
      "execution_count": null,
      "outputs": [
        {
          "output_type": "stream",
          "name": "stdout",
          "text": [
            "['apple', 'tomato']\n",
            "['tomato', 'pineapple']\n"
          ]
        }
      ]
    },
    {
      "cell_type": "markdown",
      "source": [
        "**4. Numpy and Matplotlib**"
      ],
      "metadata": {
        "id": "WInHvNwvPW8A"
      }
    },
    {
      "cell_type": "code",
      "source": [
        "import numpy as np #import a module, can designate the name for the module/function\n",
        "x=np.array([[[1],[4],[7]],[[1],[3],[0]]]) #np.array creates a matrix\n",
        "print(x); print(type(x)) #the created matrix is defined as 'numpy.ndarray'\n",
        "print(x.shape) #variable.shape shows the dimension of the matrix.\n",
        "\n"
      ],
      "metadata": {
        "colab": {
          "base_uri": "https://localhost:8080/"
        },
        "id": "Ql2EjgvxQtj6",
        "outputId": "f6c6b7a2-e4ca-4859-d75c-12d5fb05096f"
      },
      "execution_count": null,
      "outputs": [
        {
          "output_type": "stream",
          "name": "stdout",
          "text": [
            "[[[1]\n",
            "  [4]\n",
            "  [7]]\n",
            "\n",
            " [[1]\n",
            "  [3]\n",
            "  [0]]]\n",
            "<class 'numpy.ndarray'>\n",
            "(2, 3, 1)\n"
          ]
        }
      ]
    },
    {
      "cell_type": "code",
      "source": [
        "x=np.arange(0, 10, 2); print(x); \n",
        "#np.arrange(a, b, c) creates a list whose elements starts from a with the gap of c to b(not included) \n",
        "x=np.linspace(0, 10, 8); print(x);\n",
        "#np.linspace(a, b, c) for a list whose c elements from a to b with even distribution\n",
        "x=np.ones([2, 1, 2]); print(x); #zero matrix of designated dimention\n",
        "x=np.zeros([2, 1, 2]); print(x) #one matrix of designated dimention"
      ],
      "metadata": {
        "colab": {
          "base_uri": "https://localhost:8080/"
        },
        "id": "Uxkg56m4SobP",
        "outputId": "3e7ed4f8-6764-4d2c-ddf9-61d178cda8ae"
      },
      "execution_count": null,
      "outputs": [
        {
          "output_type": "stream",
          "name": "stdout",
          "text": [
            "[0 2 4 6 8]\n",
            "[ 0.          1.42857143  2.85714286  4.28571429  5.71428571  7.14285714\n",
            "  8.57142857 10.        ]\n",
            "[[[1. 1.]]\n",
            "\n",
            " [[1. 1.]]]\n",
            "[[[0. 0.]]\n",
            "\n",
            " [[0. 0.]]]\n"
          ]
        }
      ]
    },
    {
      "cell_type": "code",
      "source": [
        "x=np.random.normal(0, 1, [2, 2, 3])\n",
        "#np.random.normal(mean, st.dev., [dimention])\n",
        "print(x)\n",
        "\n",
        "import matplotlib.pyplot as plt\n",
        "y=np.random.normal(0, 1, 100) #or (mean, st.dev., number of elements)\n",
        "plt.hist(y, bins=10)"
      ],
      "metadata": {
        "colab": {
          "base_uri": "https://localhost:8080/",
          "height": 443
        },
        "id": "TkRPYcbVUKIL",
        "outputId": "49869ed4-304a-4f94-db1f-819f0581a987"
      },
      "execution_count": null,
      "outputs": [
        {
          "output_type": "stream",
          "name": "stdout",
          "text": [
            "[[[ 0.10249436  0.49964167 -0.68359278]\n",
            "  [ 1.98124572 -0.12430638  0.91489567]]\n",
            "\n",
            " [[-0.19818268  0.25815155 -0.35441927]\n",
            "  [ 0.41884681 -1.18000776 -1.03784882]]]\n"
          ]
        },
        {
          "output_type": "execute_result",
          "data": {
            "text/plain": [
              "(array([ 2.,  4.,  3., 16., 23., 21., 20.,  4.,  6.,  1.]),\n",
              " array([-2.88000662, -2.32344445, -1.76688228, -1.21032011, -0.65375794,\n",
              "        -0.09719577,  0.4593664 ,  1.01592857,  1.57249074,  2.12905291,\n",
              "         2.68561507]),\n",
              " <a list of 10 Patch objects>)"
            ]
          },
          "metadata": {},
          "execution_count": 26
        },
        {
          "output_type": "display_data",
          "data": {
            "text/plain": [
              "<Figure size 432x288 with 1 Axes>"
            ],
            "image/png": "[encoded data removed]"
          },
          "metadata": {
            "needs_background": "light"
          }
        }
      ]
    },
    {
      "cell_type": "code",
      "source": [
        "\n",
        "t1=np.linspace(0,2*np.pi,100) #creates 100 elements of 0 ~ 2pi\n",
        "s1=np.sin(t1) #t1 as an input for the function y=sin(x)\n",
        "s2=np.sin(t1+np.pi/2)\n",
        "s3=10*np.sin(t1)\n",
        "\n",
        "plt.subplot(2, 2, 1); #(a,b,c) display graphs for axb dimension, c is a sequence.\n",
        "plt.plot(t1, s1, 'o') #(a,b,'.') a->x-axis, b->value, -> c-> shape of a point\n",
        "plt.subplot(2, 2, 2);\n",
        "plt.plot(t1+np.pi/2, s2, 'x')\n",
        "plt.subplot(2, 2, 3)\n",
        "plt.plot(t1, s3, '.')"
      ],
      "metadata": {
        "colab": {
          "base_uri": "https://localhost:8080/",
          "height": 283
        },
        "id": "cElV6wTiUxcQ",
        "outputId": "034c4748-3ca7-49df-f922-bd5b0c9042eb"
      },
      "execution_count": null,
      "outputs": [
        {
          "output_type": "execute_result",
          "data": {
            "text/plain": [
              "[<matplotlib.lines.Line2D at 0x7f03ba9e50d0>]"
            ]
          },
          "metadata": {},
          "execution_count": 34
        },
        {
          "output_type": "display_data",
          "data": {
            "text/plain": [
              "<Figure size 432x288 with 3 Axes>"
            ],
            "image/png": "[encoded data removed]"
          },
          "metadata": {
            "needs_background": "light"
          }
        }
      ]
    }
  ]
}