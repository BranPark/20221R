{
  "nbformat": 4,
  "nbformat_minor": 0,
  "metadata": {
    "colab": {
      "name": "20220425.ipynb",
      "provenance": [],
      "authorship_tag": "ABX9TyPAQ0mAvgJRnlz04WCpcny/",
      "include_colab_link": true
    },
    "kernelspec": {
      "name": "python3",
      "display_name": "Python 3"
    },
    "language_info": {
      "name": "python"
    }
  },
  "cells": [
    {
      "cell_type": "markdown",
      "metadata": {
        "id": "view-in-github",
        "colab_type": "text"
      },
      "source": [
        "<a href=\"https://colab.research.google.com/github/BranPark/20221R/blob/main/20220425.ipynb\" target=\"_parent\"><img src=\"https://colab.research.google.com/assets/colab-badge.svg\" alt=\"Open In Colab\"/></a>"
      ]
    },
    {
      "cell_type": "code",
      "execution_count": 3,
      "metadata": {
        "id": "yLFJRfDvPFeZ"
      },
      "outputs": [],
      "source": [
        "# Correlation refers to linear relation among variables, while auto-correlation is the relation to itself.\n",
        "# Therefore, auto-correlation uses itself and lagged-version of itself.  \n",
        "# Wrt sounds, auto-correlation smoothes out the original sound."
      ]
    },
    {
      "cell_type": "code",
      "source": [
        "# RMS is rooted mean of (the difference between predictions and targets)^2\n",
        "# The result shows the error of predictions"
      ],
      "metadata": {
        "id": "Fqhfm_5IPUgz"
      },
      "execution_count": null,
      "outputs": []
    }
  ]
}