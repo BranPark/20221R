{
  "nbformat": 4,
  "nbformat_minor": 0,
  "metadata": {
    "colab": {
      "name": "20220328.ipynb",
      "provenance": [],
      "collapsed_sections": [],
      "authorship_tag": "ABX9TyPA9XvkJk52R8V02BK6DgsO",
      "include_colab_link": true
    },
    "kernelspec": {
      "name": "python3",
      "display_name": "Python 3"
    },
    "language_info": {
      "name": "python"
    }
  },
  "cells": [
    {
      "cell_type": "markdown",
      "metadata": {
        "id": "view-in-github",
        "colab_type": "text"
      },
      "source": [
        "<a href=\"https://colab.research.google.com/github/BranPark/20221R/blob/main/20220328.ipynb\" target=\"_parent\"><img src=\"https://colab.research.google.com/assets/colab-badge.svg\" alt=\"Open In Colab\"/></a>"
      ]
    },
    {
      "cell_type": "code",
      "execution_count": null,
      "metadata": {
        "id": "F9vn5bvxF4g1"
      },
      "outputs": [],
      "source": [
        "!pip install gradio\n",
        "import gradio as gr\n",
        "import pandas as pd\n",
        "import requests"
      ]
    },
    {
      "cell_type": "code",
      "source": [
        "def test(country_nm):\n",
        "  URL = ('http://apis.data.go.kr/1262000/CountryPoliticService2/'\n",
        "         'getCountryPoliticList2?'\n",
        "         '&returnType=JSON'\n",
        "         '&numOfRows=10'\n",
        "         '&pageNo=1'\n",
        "         '&cond[country_nm::EQ]='+country_nm+\n",
        "         '&serviceKey=hMdxUIc5zib0DVgtxUkrrIPTOaThYmkzmG4w0Xh7j0JlDkZNiqmS8R7mwSADn7z%2BJXrY%2FWQdBCfDuFrwl3qNpg%3D%3D')\n",
        "\n",
        "  response = requests.get(URL)\n",
        "  r = response.json()\n",
        "  items = r['data']\n",
        "\n",
        "  politicsys_nm = [item['politicsys_nm'] for item in items]\n",
        "  gvrn_form_nm = [item['gvrn_form_nm'] for item in items]\n",
        "  council_cn = [item['council_cn'] for item in items]\n",
        "  nfs_cn = [item['nfs_cn'] for item in items]\n",
        "\n",
        "  politicsys = pd.Series(politicsys_nm)\n",
        "  gvrnform = pd.Series(gvrn_form_nm)\n",
        "  council = pd.Series(council_cn)\n",
        "  nfs = pd.Series(nfs_cn)\n",
        "\n",
        "  df = pd.DataFrame({'정치체제' : politicsys, '정부형태' : gvrnform, '의회제도' : council,\n",
        "                     '국방력' : nfs})\n",
        "\n",
        "  \n",
        "  return df\n",
        "\n"
      ],
      "metadata": {
        "id": "2unhmDsrGMHI"
      },
      "execution_count": 46,
      "outputs": []
    },
    {
      "cell_type": "code",
      "source": [
        "iface = gr.Interface(test, gr.inputs.Textbox(lines=1, label='국가명'), gr.outputs.Dataframe(type='pandas', label='주요정보'))\n",
        "iface.launch(debug=True)\n",
        "\n",
        "\n",
        "\n",
        "\n"
      ],
      "metadata": {
        "colab": {
          "base_uri": "https://localhost:8080/",
          "height": 592
        },
        "id": "-zTv0_YoDVhD",
        "outputId": "2683094b-3660-458c-8636-f2be3bcbe9ae"
      },
      "execution_count": null,
      "outputs": [
        {
          "output_type": "stream",
          "name": "stdout",
          "text": [
            "Colab notebook detected. This cell will run indefinitely so that you can see errors and logs. To turn off, set debug=False in launch().\n",
            "Running on public URL: https://58290.gradio.app\n",
            "\n",
            "This share link expires in 72 hours. For free permanent hosting, check out Spaces (https://huggingface.co/spaces)\n"
          ]
        },
        {
          "output_type": "display_data",
          "data": {
            "text/plain": [
              "<IPython.lib.display.IFrame at 0x7f9a9387ed90>"
            ],
            "text/html": [
              "\n",
              "        <iframe\n",
              "            width=\"900\"\n",
              "            height=\"500\"\n",
              "            src=\"https://58290.gradio.app\"\n",
              "            frameborder=\"0\"\n",
              "            allowfullscreen\n",
              "        ></iframe>\n",
              "        "
            ]
          },
          "metadata": {}
        }
      ]
    }
  ]
}